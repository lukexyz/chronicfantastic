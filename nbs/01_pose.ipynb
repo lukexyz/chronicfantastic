{
 "cells": [
  {
   "cell_type": "markdown",
   "id": "43ee4f6f",
   "metadata": {},
   "source": [
    "# 💪 AlphaPose installation on WSL 💪"
   ]
  },
  {
   "cell_type": "markdown",
   "id": "2f29be3c",
   "metadata": {},
   "source": [
    "[Official instructions](https://github.com/MVIG-SJTU/AlphaPose/blob/master/docs/INSTALL.md) + annotations  \n"
   ]
  },
  {
   "cell_type": "code",
   "execution_count": null,
   "id": "226df40f",
   "metadata": {
    "vscode": {
     "languageId": "python"
    }
   },
   "outputs": [],
   "source": [
    "# CUDA on WSL (windows 11)\n",
    "wsl --list --verbose\n",
    "wsl --shutdown\n",
    "wsl --update\n",
    "\n",
    "# new reinstall on latest ubuntu 20.04.1\n",
    "wsl.exe --install Ubuntu-20.04"
   ]
  },
  {
   "cell_type": "code",
   "execution_count": null,
   "id": "95a5f479",
   "metadata": {
    "vscode": {
     "languageId": "python"
    }
   },
   "outputs": [],
   "source": [
    "# in WSL Ubuntu\n",
    "sudo apt-get update\n",
    "sudo apt-get upgrade\n",
    "\n",
    "# check GPU is visible \n",
    "nvidia-smi"
   ]
  },
  {
   "cell_type": "code",
   "execution_count": null,
   "id": "6efc2d0d",
   "metadata": {
    "vscode": {
     "languageId": "python"
    }
   },
   "outputs": [],
   "source": [
    "# 1. Create a conda virtual environment.\n",
    "conda create -n alphapose python=3.7 -y\n",
    "conda activate alphapose\n",
    "\n",
    "\n",
    "# OPTION 1 ---- instructions for installing CUDA on WSL\n",
    "# https://docs.nvidia.com/cuda/wsl-user-guide/index.html\n",
    "wget https://developer.download.nvidia.com/compute/cuda/repos/wsl-ubuntu/x86_64/cuda-wsl-ubuntu.pin\n",
    "sudo mv cuda-wsl-ubuntu.pin /etc/apt/preferences.d/cuda-repository-pin-600\n",
    "wget https://developer.download.nvidia.com/compute/cuda/11.7.0/local_installers/cuda-repo-wsl-ubuntu-11-7-local_11.7.0-1_amd64.deb\n",
    "sudo dpkg -i cuda-repo-wsl-ubuntu-11-7-local_11.7.0-1_amd64.deb\n",
    "sudo apt-get update  # --allow-insecure-repositories\n",
    "sudo apt-get -y install cuda\n",
    "\n",
    "\n",
    "# OPTION 2\n",
    "# ------------ install cuda platform independent with conda \n",
    "conda install cuda -c nvidia\n",
    "# ------------ verify install\n",
    "conda search -f cuda  \n",
    "# ------------ or using nvcc\n",
    "nvcc --version \n",
    "# ------------\n",
    "\n",
    "\n",
    "# 2. Install PyTorch\n",
    "conda install pytorch torchvision cudatoolkit=11.3 -c pytorch\n",
    "\n",
    "# 3. Get AlphaPose\n",
    "git clone https://github.com/MVIG-SJTU/AlphaPose.git\n",
    "cd AlphaPose\n",
    "\n",
    "\n",
    "# 4. install\n",
    "export PATH=/usr/local/cuda/bin/:$PATH\n",
    "export LD_LIBRARY_PATH=/usr/local/cuda/lib64/:$LD_LIBRARY_PATH\n",
    "python -m pip install cython\n",
    "sudo apt-get install libyaml-dev\n",
    "\n",
    "######################################################\n",
    "python setup.py build develop\n"
   ]
  },
  {
   "cell_type": "code",
   "execution_count": null,
   "id": "7241a2c0",
   "metadata": {
    "vscode": {
     "languageId": "python"
    }
   },
   "outputs": [],
   "source": []
  }
 ],
 "metadata": {
  "kernelspec": {
   "display_name": "Python 3 (ipykernel)",
   "language": "python",
   "name": "python3"
  }
 },
 "nbformat": 4,
 "nbformat_minor": 5
}
